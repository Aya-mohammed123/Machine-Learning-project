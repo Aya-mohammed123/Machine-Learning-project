{
 "cells": [
  {
   "cell_type": "code",
   "execution_count": 1,
   "id": "6d8235b3-1615-43cc-bcac-b86aebb0e90d",
   "metadata": {},
   "outputs": [],
   "source": [
    "import tensorflow as tf\n",
    "\n",
    "from tensorflow.keras.layers import  Flatten, Dense, Input # to remove warning of line 4  \n",
    "import matplotlib.pyplot as plt\n",
    "import numpy as np\n",
    "\n"
   ]
  },
  {
   "cell_type": "code",
   "execution_count": 14,
   "id": "a0342e85-6c0a-464e-8ed8-c1472780bfe2",
   "metadata": {},
   "outputs": [],
   "source": [
    "# Load and preprocess the CIFAR-10 dataset \n",
    "cifar10 = tf.keras.datasets.cifar10  #airplanes, cars, birds, cats, deer, dogs, frogs, horses, ships, and trucks\n",
    "(x_train, y_train), (x_test, y_test) = cifar10.load_data() # split into tetsing and training already pre-split\n",
    "\n",
    "x_train = tf.keras.utils.normalize(x_train, axis=1)\n",
    "x_test = tf.keras.utils.normalize(x_test, axis=1)  #test_images = test_images / 255.0  derease scale \n",
    "# from 0 --->255 RGB  to 0----->1\n",
    "# Normalization helps improve the performance of neural networks by making the data more consistent and easier to work with"
   ]
  },
  {
   "cell_type": "code",
   "execution_count": 3,
   "id": "747ed706-54c9-41d5-8dc6-aae3081b5c51",
   "metadata": {},
   "outputs": [
    {
     "data": {
      "image/png": "[encoded data removed]",
      "text/plain": [
       "<Figure size 640x480 with 1 Axes>"
      ]
     },
     "metadata": {},
     "output_type": "display_data"
    }
   ],
   "source": [
    "# #Display image\n",
    "plt.imshow(x_train[0])\n",
    "plt.show()\n",
    "# plt.figure()\n",
    "# plt.imshow(x_train[0])\n",
    "# plt.colorbar()\n",
    "# plt.show()"
   ]
  },
  {
   "cell_type": "code",
   "execution_count": 4,
   "id": "dc27cf90-9007-4602-aaac-55373da32eb5",
   "metadata": {},
   "outputs": [],
   "source": [
    "\n",
    "# Define the model\n",
    "model = tf.keras.models.Sequential() #stack of layers\n",
    "model.add(tf.keras.layers.Flatten())# input_shape=(32, 32, 3) input layer \n",
    "\n",
    "# this layer reshapes the input data from a 28x28 matrix -----> a 784-element vector.\n",
    "\n",
    "# It is not considered a hidden layer; it is just a preprocessing step.\n",
    "\n",
    "#prepare for the fully connected layers to minimise scale of image that have  32x32 color images(RGB) across 10 classes\n",
    "\n",
    " # Each neuron in this layer takes the input from all the neurons in the previous layer (the flattened input) \n",
    "# it applies a weighted sum followed by an activation function \"relu\"\n",
    "# The relu activation function introduces non-linearity, helping the network learn more complex patterns. not perceptron 'linear dataset '\n",
    "\n",
    "model.add(tf.keras.layers.Dense(128, activation='relu'))#128 from 21 to 42%accuracy\n",
    "model.add(tf.keras.layers.Dense(128, activation='relu'))\n",
    "model.add(tf.keras.layers.Dense(10, activation='softmax')) #    # output layer (3)    as it include 10classes  \n",
    "\n",
    "\n",
    "model.compile(optimizer='adam',# optimization for  learning rate\n",
    "              loss='sparse_categorical_crossentropy',# loss measures the difference between the actual and predicted probability distributions\n",
    "              # predictions match the actual labels.\n",
    "              metrics=['accuracy'])\n"
   ]
  },
  {
   "cell_type": "code",
   "execution_count": 5,
   "id": "dc9f82d2-17b1-446a-8db9-6daa77555571",
   "metadata": {},
   "outputs": [],
   "source": [
    "# model.shape"
   ]
  },
  {
   "cell_type": "code",
   "execution_count": 6,
   "id": "53898666-37cf-4c59-8770-7b3b6a56aa58",
   "metadata": {},
   "outputs": [
    {
     "name": "stdout",
     "output_type": "stream",
     "text": [
      "Epoch 1/10\n",
      "\u001b[1m1563/1563\u001b[0m \u001b[32m━━━━━━━━━━━━━━━━━━━━\u001b[0m\u001b[37m\u001b[0m \u001b[1m11s\u001b[0m 5ms/step - accuracy: 0.2197 - loss: 2.1198\n",
      "Epoch 2/10\n",
      "\u001b[1m1563/1563\u001b[0m \u001b[32m━━━━━━━━━━━━━━━━━━━━\u001b[0m\u001b[37m\u001b[0m \u001b[1m8s\u001b[0m 5ms/step - accuracy: 0.3222 - loss: 1.8862\n",
      "Epoch 3/10\n",
      "\u001b[1m1563/1563\u001b[0m \u001b[32m━━━━━━━━━━━━━━━━━━━━\u001b[0m\u001b[37m\u001b[0m \u001b[1m7s\u001b[0m 5ms/step - accuracy: 0.3572 - loss: 1.7943\n",
      "Epoch 4/10\n",
      "\u001b[1m1563/1563\u001b[0m \u001b[32m━━━━━━━━━━━━━━━━━━━━\u001b[0m\u001b[37m\u001b[0m \u001b[1m7s\u001b[0m 5ms/step - accuracy: 0.3741 - loss: 1.7546\n",
      "Epoch 5/10\n",
      "\u001b[1m1563/1563\u001b[0m \u001b[32m━━━━━━━━━━━━━━━━━━━━\u001b[0m\u001b[37m\u001b[0m \u001b[1m7s\u001b[0m 4ms/step - accuracy: 0.3897 - loss: 1.7107\n",
      "Epoch 6/10\n",
      "\u001b[1m1563/1563\u001b[0m \u001b[32m━━━━━━━━━━━━━━━━━━━━\u001b[0m\u001b[37m\u001b[0m \u001b[1m8s\u001b[0m 5ms/step - accuracy: 0.3998 - loss: 1.6937\n",
      "Epoch 7/10\n",
      "\u001b[1m1563/1563\u001b[0m \u001b[32m━━━━━━━━━━━━━━━━━━━━\u001b[0m\u001b[37m\u001b[0m \u001b[1m8s\u001b[0m 5ms/step - accuracy: 0.4121 - loss: 1.6577\n",
      "Epoch 8/10\n",
      "\u001b[1m1563/1563\u001b[0m \u001b[32m━━━━━━━━━━━━━━━━━━━━\u001b[0m\u001b[37m\u001b[0m \u001b[1m8s\u001b[0m 5ms/step - accuracy: 0.4185 - loss: 1.6440\n",
      "Epoch 9/10\n",
      "\u001b[1m1563/1563\u001b[0m \u001b[32m━━━━━━━━━━━━━━━━━━━━\u001b[0m\u001b[37m\u001b[0m \u001b[1m8s\u001b[0m 5ms/step - accuracy: 0.4223 - loss: 1.6257\n",
      "Epoch 10/10\n",
      "\u001b[1m1563/1563\u001b[0m \u001b[32m━━━━━━━━━━━━━━━━━━━━\u001b[0m\u001b[37m\u001b[0m \u001b[1m8s\u001b[0m 5ms/step - accuracy: 0.4308 - loss: 1.6014\n"
     ]
    },
    {
     "data": {
      "text/plain": [
       "<keras.src.callbacks.history.History at 0x26da2476150>"
      ]
     },
     "execution_count": 6,
     "metadata": {},
     "output_type": "execute_result"
    }
   ],
   "source": [
    "model.fit(x_train, y_train, epochs=10)#train the model  # (20 22--->49  & test 43%   10 21--->44 & test 41%) ----->first dense 256\n",
    "#dense 128 and epochs 10 22--->43% && test 40%"
   ]
  },
  {
   "cell_type": "code",
   "execution_count": 7,
   "id": "411ee319-7929-4f85-a68d-f0f425e56341",
   "metadata": {},
   "outputs": [
    {
     "name": "stdout",
     "output_type": "stream",
     "text": [
      "\u001b[1m313/313\u001b[0m \u001b[32m━━━━━━━━━━━━━━━━━━━━\u001b[0m\u001b[37m\u001b[0m \u001b[1m1s\u001b[0m 1ms/step - accuracy: 0.4233 - loss: 1.6456\n",
      "Validation loss: 1.657272219657898\n",
      "Validation accuracy: 0.41600000858306885\n"
     ]
    }
   ],
   "source": [
    "val_loss, val_acc = model.evaluate(x_test, y_test)\n",
    "print(\"Validation loss:\", val_loss)\n",
    "print(\"Validation accuracy:\", val_acc)\n",
    "# if we have 10 image to compare how much it loss from the actual measure avg which are validation loss if img 1 loss .5 and img 2 lose .2 ......img n loss .4 \n",
    "# validation test =(.5+.2+......+.4)/10"
   ]
  },
  {
   "cell_type": "code",
   "execution_count": 8,
   "id": "78b7c4f3-3602-40cc-b3db-a09cda8330cd",
   "metadata": {},
   "outputs": [],
   "source": [
    "# Save the model\n",
    "model.save('cifar10NN.keras')\n",
    "\n",
    "# Load the model\n",
    "new_model = tf.keras.models.load_model('cifar10NN.keras')\n",
    "\n"
   ]
  },
  {
   "cell_type": "code",
   "execution_count": 9,
   "id": "94652037-e4bd-4ea2-9d8b-cf7afff1f0b9",
   "metadata": {},
   "outputs": [
    {
     "name": "stdout",
     "output_type": "stream",
     "text": [
      "\u001b[1m313/313\u001b[0m \u001b[32m━━━━━━━━━━━━━━━━━━━━\u001b[0m\u001b[37m\u001b[0m \u001b[1m1s\u001b[0m 2ms/step\n",
      "[[0.01700654 0.10943574 0.08253413 ... 0.00139614 0.04734767 0.01292595]\n",
      " [0.02267329 0.20465545 0.00509843 ... 0.00165987 0.16433567 0.595115  ]\n",
      " [0.2881695  0.13277274 0.01532097 ... 0.00815251 0.1878406  0.32516345]\n",
      " ...\n",
      " [0.03204362 0.00223387 0.10988908 ... 0.03372587 0.00553267 0.00620831]\n",
      " [0.05447187 0.15267082 0.08308822 ... 0.08189568 0.11494336 0.09718563]\n",
      " [0.01764931 0.00271769 0.09986125 ... 0.5525861  0.00466826 0.01331199]]\n"
     ]
    }
   ],
   "source": [
    "# Make predictions\n",
    "predictions = new_model.predict(x_test) # Evaluate how well your model generalizes to new data\n",
    "print(predictions)\n",
    "\n",
    "# print(predictions[0])\n",
    "\n"
   ]
  },
  {
   "cell_type": "code",
   "execution_count": 10,
   "id": "7d0e2e80-da38-4eb1-a38b-acf00116a431",
   "metadata": {},
   "outputs": [
    {
     "data": {
      "text/plain": [
       "3"
      ]
     },
     "execution_count": 10,
     "metadata": {},
     "output_type": "execute_result"
    }
   ],
   "source": [
    "predictedLabel= np.argmax(predictions[0]) #finds the index of the highest probability value in the prediction array for the first test imagL\n",
    "predictedLabel"
   ]
  },
  {
   "cell_type": "code",
   "execution_count": 11,
   "id": "9bbd36f3-4bdf-44c2-9aa1-4cec0b406f75",
   "metadata": {},
   "outputs": [],
   "source": [
    "class_names = ['airplane', 'automobile', 'bird', 'cat', 'deer',\n",
    "               'dog', 'frog', 'horse', 'ship', 'truck']"
   ]
  },
  {
   "cell_type": "code",
   "execution_count": 12,
   "id": "e558eaa8-09d5-4b96-9358-9ca74bab7ac9",
   "metadata": {},
   "outputs": [
    {
     "data": {
      "text/plain": [
       "'cat'"
      ]
     },
     "execution_count": 12,
     "metadata": {},
     "output_type": "execute_result"
    }
   ],
   "source": [
    "class_names[predictedLabel]"
   ]
  },
  {
   "cell_type": "code",
   "execution_count": 13,
   "id": "c0539a24-98fa-4f90-bdef-d7ac89d30a35",
   "metadata": {},
   "outputs": [
    {
     "data": {
      "image/png": "[encoded data removed]",
      "text/plain": [
       "<Figure size 640x480 with 1 Axes>"
      ]
     },
     "metadata": {},
     "output_type": "display_data"
    }
   ],
   "source": [
    "# Display the test image\n",
    "plt.imshow(x_test[0])\n",
    "plt.show()"
   ]
  },
  {
   "cell_type": "code",
   "execution_count": null,
   "id": "3d7f30e1-c607-475d-ad54-79cb718ff7f8",
   "metadata": {},
   "outputs": [],
   "source": []
  },
  {
   "cell_type": "code",
   "execution_count": null,
   "id": "bcbcc8b9-a2ab-4218-993b-3ba9f31a654b",
   "metadata": {},
   "outputs": [],
   "source": []
  },
  {
   "cell_type": "code",
   "execution_count": null,
   "id": "994982ba-cbe4-4a97-a745-d5a1f765f9b1",
   "metadata": {},
   "outputs": [],
   "source": []
  }
 ],
 "metadata": {
  "kernelspec": {
   "display_name": "Python 3 (ipykernel)",
   "language": "python",
   "name": "python3"
  },
  "language_info": {
   "codemirror_mode": {
    "name": "ipython",
    "version": 3
   },
   "file_extension": ".py",
   "mimetype": "text/x-python",
   "name": "python",
   "nbconvert_exporter": "python",
   "pygments_lexer": "ipython3",
   "version": "3.11.7"
  }
 },
 "nbformat": 4,
 "nbformat_minor": 5
}
